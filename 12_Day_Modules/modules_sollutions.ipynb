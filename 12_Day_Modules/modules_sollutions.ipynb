{
 "cells": [
  {
   "cell_type": "markdown",
   "metadata": {},
   "source": [
    "Write a function which generates a six digit/character random_user_id.\n",
    "  print(random_user_id());\n",
    "  '1ee33d'"
   ]
  },
  {
   "cell_type": "code",
   "execution_count": 5,
   "metadata": {},
   "outputs": [
    {
     "name": "stdout",
     "output_type": "stream",
     "text": [
      "7U7IC2\n"
     ]
    }
   ],
   "source": [
    "import random\n",
    "def random_user_id():\n",
    "    # rand_num = random.sample(range(0,10),6)\n",
    "    # return \"\".join([str(i) for i in rand_num])\n",
    "    return \"\".join(random.choice('0123456789ABCDEFGHIJKLMNOPQRSTUVWXYZ') for i in range(6))\n",
    "\n",
    "print(random_user_id())\n"
   ]
  },
  {
   "cell_type": "markdown",
   "metadata": {},
   "source": [
    "Modify the previous task. Declare a function named user_id_gen_by_user. It doesn’t take any parameters but it takes two inputs using input(). One of the inputs is the number of characters and the second input is the number of IDs which are supposed to be generated.\n",
    "print(user_id_gen_by_user()) # user input: 5 5\n",
    "#output:\n",
    "#kcsy2\n",
    "#SMFYb\n",
    "#bWmeq\n",
    "#ZXOYh\n",
    "#2Rgxf\n",
    "   \n",
    "print(user_id_gen_by_user()) # 16 5\n",
    "#1GCSgPLMaBAVQZ26\n",
    "#YD7eFwNQKNs7qXaT\n",
    "#ycArC5yrRupyG00S\n",
    "#UbGxOFI7UXSWAyKN\n",
    "#dIV0SSUTgAdKwStr"
   ]
  },
  {
   "cell_type": "code",
   "execution_count": 7,
   "metadata": {},
   "outputs": [
    {
     "name": "stdout",
     "output_type": "stream",
     "text": [
      "['#LX87Y', '#QARW5', '#7AZ52', '#ZV8Y0', '#0YUMI']\n"
     ]
    }
   ],
   "source": [
    "import random\n",
    "def user_id_gen_by_user():\n",
    "    num_char = int(input(\"Enter number of characters\"))\n",
    "    user_ids =[]\n",
    "    num_user_ids = int(input(\"Enter number of user ids\"))\n",
    "    for i in range(num_user_ids):\n",
    "        user_ids.append(\"#\"+\"\".join(random.choice('0123456789ABCDEFGHIJKLMNOPQRSTUVWXYZ') for i in range(num_char)))\n",
    "    return user_ids\n",
    "\n",
    "print(user_id_gen_by_user())"
   ]
  },
  {
   "cell_type": "markdown",
   "metadata": {},
   "source": [
    "Write a function named rgb_color_gen. It will generate rgb colors (3 values ranging from 0 to 255 each).\n",
    "print(rgb_color_gen())\n",
    "# rgb(125,244,255) - the output should be in this form"
   ]
  },
  {
   "cell_type": "code",
   "execution_count": 188,
   "metadata": {},
   "outputs": [
    {
     "name": "stdout",
     "output_type": "stream",
     "text": [
      "rgb(234, 53, 45)\n"
     ]
    }
   ],
   "source": [
    "import random\n",
    "def rgb_color_gen():\n",
    "    colors_codes =str(tuple(random.randrange(0,256) for i in range(3)))\n",
    "    return \"rgb\"+(colors_codes)\n",
    "\n",
    "print(rgb_color_gen())"
   ]
  },
  {
   "cell_type": "markdown",
   "metadata": {},
   "source": [
    "Write a function list_of_hexa_colors which returns any number of hexadecimal colors in an array (six hexadecimal numbers written after #. Hexadecimal numeral system is made out of 16 symbols, 0-9 and first 6 letters of the alphabet, a-f. Check the task 6 for output examples)."
   ]
  },
  {
   "cell_type": "code",
   "execution_count": 9,
   "metadata": {},
   "outputs": [
    {
     "name": "stdout",
     "output_type": "stream",
     "text": [
      "['#477970', '#73E0F4', '#2AA23E', '#B2B45B', '#8E6D0F']\n"
     ]
    }
   ],
   "source": [
    "import random\n",
    "def list_of_hexa_colors(num_of_colors):\n",
    "    hexa_colors = []\n",
    "    for num in range(num_of_colors):\n",
    "        hexa_colors.append(\"#\"+\"\".join(random.choice('0123456789ABCDEF') for i in range(6)))\n",
    "    return hexa_colors\n",
    "\n",
    "num_of_colors = int(input(\"Enter the number of colors\"))\n",
    "print(list_of_hexa_colors(num_of_colors))\n"
   ]
  },
  {
   "cell_type": "markdown",
   "metadata": {},
   "source": [
    "Write a function list_of_rgb_colors which returns any number of RGB colors in an array."
   ]
  },
  {
   "cell_type": "code",
   "execution_count": 2,
   "metadata": {},
   "outputs": [
    {
     "name": "stdout",
     "output_type": "stream",
     "text": [
      "['rgb(173, 246, 196)', 'rgb(16, 204, 122)', 'rgb(144, 121, 187)', 'rgb(195, 188, 7)', 'rgb(62, 132, 132)']\n"
     ]
    }
   ],
   "source": [
    "import random\n",
    "def list_rgb_color_gen(num_of_colors):\n",
    "    rgb_colors =[]\n",
    "    for num in range(num_of_colors):\n",
    "        colors_codes =str(tuple(random.randrange(0,256) for i in range(3)))\n",
    "        rgb_colors.append(\"rgb\"+(colors_codes))\n",
    "    return rgb_colors\n",
    "\n",
    "num_of_colors = int(input(\"Enter the number of colors\"))\n",
    "print(list_rgb_color_gen(num_of_colors))\n"
   ]
  },
  {
   "cell_type": "markdown",
   "metadata": {},
   "source": [
    "Write a function generate_colors which can generate any number of hexa or rgb colors.\n",
    "   generate_colors('hexa', 3) # ['#a3e12f','#03ed55','#eb3d2b'] \n",
    "   generate_colors('hexa', 1) # ['#b334ef']\n",
    "   generate_colors('rgb', 3)  # ['rgb(5, 55, 175','rgb(50, 105, 100','rgb(15, 26, 80'] \n",
    "   generate_colors('rgb', 1)  # ['rgb(33,79, 176)']"
   ]
  },
  {
   "cell_type": "code",
   "execution_count": 12,
   "metadata": {},
   "outputs": [
    {
     "name": "stdout",
     "output_type": "stream",
     "text": [
      "['#FBF1CD', '#1FE3C6', '#E2C79C', '#8FFDA4']\n",
      "['rgb(67, 226, 59)', 'rgb(54, 109, 243)', 'rgb(155, 189, 152)', 'rgb(136, 87, 117)']\n"
     ]
    }
   ],
   "source": [
    "def generate_colors(color_type,num_of_colors):\n",
    "    if color_type.lower() == \"hexa\":\n",
    "        return list_of_hexa_colors(num_of_colors)\n",
    "    elif color_type.lower() == 'rgb':\n",
    "        return list_rgb_color_gen(num_of_colors)\n",
    "    else:\n",
    "        return \"Please provide hexa/rgb color_type\"\n",
    "    \n",
    "\n",
    "print(generate_colors('hexa',4))\n",
    "print(generate_colors('rgb',4))"
   ]
  },
  {
   "cell_type": "markdown",
   "metadata": {},
   "source": [
    "Call your function shuffle_list, it takes a list as a parameter and it returns a shuffled list"
   ]
  },
  {
   "cell_type": "code",
   "execution_count": 15,
   "metadata": {},
   "outputs": [
    {
     "name": "stdout",
     "output_type": "stream",
     "text": [
      "[5, 4, 3, 1, 2]\n"
     ]
    }
   ],
   "source": [
    "import random\n",
    "def shuffle_list(lst):\n",
    "    return random.shuffle(lst)\n",
    "    \n",
    "lst = [1,2,3,4,5]\n",
    "shuffle_list(lst)\n",
    "print(lst)\n"
   ]
  },
  {
   "cell_type": "markdown",
   "metadata": {},
   "source": [
    "Write a function which returns an array of seven random numbers in a range of 0-9. All the numbers must be unique."
   ]
  },
  {
   "cell_type": "code",
   "execution_count": 21,
   "metadata": {},
   "outputs": [
    {
     "name": "stdout",
     "output_type": "stream",
     "text": [
      "['0', '8', '7', '9', '1', '3', '4']\n"
     ]
    }
   ],
   "source": [
    "from array import array\n",
    "\n",
    "\n",
    "def random_nums():\n",
    "    rnd_nums = []\n",
    "    while len(rnd_nums)<7:\n",
    "        number = random.choice('0123456789') \n",
    "        if(number not in rnd_nums):\n",
    "            rnd_nums.append(number)\n",
    "    return rnd_nums\n",
    "\n",
    "print(random_nums())\n"
   ]
  }
 ],
 "metadata": {
  "kernelspec": {
   "display_name": "Python 3",
   "language": "python",
   "name": "python3"
  },
  "language_info": {
   "codemirror_mode": {
    "name": "ipython",
    "version": 3
   },
   "file_extension": ".py",
   "mimetype": "text/x-python",
   "name": "python",
   "nbconvert_exporter": "python",
   "pygments_lexer": "ipython3",
   "version": "3.9.6"
  }
 },
 "nbformat": 4,
 "nbformat_minor": 2
}

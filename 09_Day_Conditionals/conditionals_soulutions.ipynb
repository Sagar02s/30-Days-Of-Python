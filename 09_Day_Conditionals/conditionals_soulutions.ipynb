{
 "cells": [
  {
   "cell_type": "markdown",
   "metadata": {},
   "source": [
    "Get user input using input(“Enter your age: ”). If user is 18 or older, give feedback: You are old enough to drive. If below 18 give feedback to wait for the missing amount of years. Output:\n",
    "Enter your age: 30\n",
    "You are old enough to learn to drive.\n",
    "Output:\n",
    "Enter your age: 15\n",
    "You need 3 more years to learn to drive."
   ]
  },
  {
   "cell_type": "code",
   "execution_count": 3,
   "metadata": {},
   "outputs": [
    {
     "name": "stdout",
     "output_type": "stream",
     "text": [
      "You need 2 more years to learn to drive\n"
     ]
    }
   ],
   "source": [
    "age = int(input(\"Enter your age: \"))\n",
    "print('You are old enough to drive' if age >= 18 else 'You need {} more years to learn to drive'.format(18-age))"
   ]
  },
  {
   "cell_type": "markdown",
   "metadata": {},
   "source": [
    "Compare the values of my_age and your_age using if … else. Who is older (me or you)? Use input(“Enter your age: ”) to get the age as input. You can use a nested condition to print 'year' for 1 year difference in age, 'years' for bigger differences, and a custom text if my_age = your_age. Output:\n",
    "Enter your age: 30\n",
    "You are 5 years older than me."
   ]
  },
  {
   "cell_type": "code",
   "execution_count": 12,
   "metadata": {},
   "outputs": [
    {
     "name": "stdout",
     "output_type": "stream",
     "text": [
      "You are 7 years older than me.\n"
     ]
    }
   ],
   "source": [
    "my_age = int(input(\"Eneter my age\"))\n",
    "your_age = int(input(\"Eneter your age\"))\n",
    "\n",
    "if my_age > your_age:\n",
    "    if int(abs(my_age-your_age)) == 1:\n",
    "        print(\"Iam 1 year older than you.\")\n",
    "    else:\n",
    "        print(\"Iam {} years older than you.\".format(my_age-your_age))\n",
    "elif your_age > my_age:\n",
    "    if int(abs(your_age-my_age)) == 1:\n",
    "        print(\"You are 1 year older than me.\")\n",
    "    else:\n",
    "        print(\"You are {} years older than me.\".format(your_age-my_age))\n",
    "else:\n",
    "    print(\"Both are same old.\")"
   ]
  },
  {
   "cell_type": "markdown",
   "metadata": {},
   "source": [
    "Get two numbers from the user using input prompt. If a is greater than b return a is greater than b, if a is less b return a is smaller than b, else a is equal to b. Output:\n",
    "Enter number one: 4\n",
    "Enter number two: 3\n",
    "4 is greater than 3"
   ]
  },
  {
   "cell_type": "code",
   "execution_count": 20,
   "metadata": {},
   "outputs": [
    {
     "name": "stdout",
     "output_type": "stream",
     "text": [
      "4 is greater than 3\n"
     ]
    }
   ],
   "source": [
    "a = int(input(\"Enter number one:\"))\n",
    "b = int(input(\"Enter number two:\"))\n",
    "\n",
    "if a > b:\n",
    "    print(\"{} is greater than {}\".format(a,b))\n",
    "elif a < b:\n",
    "    print(\"{} is smaller than {}\".format(a,b))\n",
    "else:\n",
    "    print(\"{} is equal to {}.\".format(a,b))"
   ]
  },
  {
   "cell_type": "markdown",
   "metadata": {
    "vscode": {
     "languageId": "plaintext"
    }
   },
   "source": [
    "Write a code which gives grade to students according to theirs scores:\n",
    "\n",
    "80-100, A\n",
    "70-89, B\n",
    "60-69, C\n",
    "50-59, D\n",
    "0-49, F"
   ]
  },
  {
   "cell_type": "code",
   "execution_count": 26,
   "metadata": {},
   "outputs": [
    {
     "name": "stdout",
     "output_type": "stream",
     "text": [
      "B Grade\n"
     ]
    }
   ],
   "source": [
    "score = int(input('Enter the score'))\n",
    "if score >=80 and score <=100:\n",
    "    print(\"A Grade\")\n",
    "elif score >=70 and score <=89:\n",
    "    print(\"B Grade\")\n",
    "elif score >=60 and score <=69:\n",
    "    print(\"C Grade\")\n",
    "elif score >=50 and score <=59:\n",
    "    print(\"D Grade\")\n",
    "elif score >=0 and score <=49:\n",
    "    print(\"F Grade\")\n",
    "else:\n",
    "    print(\"Please enter the valid score between 0 to 100\")\n"
   ]
  },
  {
   "cell_type": "markdown",
   "metadata": {},
   "source": [
    "Check if the season is Autumn, Winter, Spring or Summer. If the user input is: September, October or November, the season is Autumn. December, January or February, the season is Winter. March, April or May, the season is Spring June, July or August, the season is Summer"
   ]
  },
  {
   "cell_type": "code",
   "execution_count": 32,
   "metadata": {},
   "outputs": [
    {
     "name": "stdout",
     "output_type": "stream",
     "text": [
      "Winter Season\n"
     ]
    }
   ],
   "source": [
    "month = input(\"Enter the month (select in below list)\\n January\\n February \\n March \\n April \\n May \\n June \\n July \\n August \\n September \\n October \\n November \\n December\").capitalize()\n",
    "\n",
    "if month in ['September','October','November']:\n",
    "    print(\"Autum Season\")\n",
    "elif month in ['December','January','February']:\n",
    "    print('Winter Season')\n",
    "elif month in ['March','April','May']:\n",
    "    print(\"Spring Season\")\n",
    "elif month in ['June','July','August']:\n",
    "    print(\"Summer Season\")\n",
    "else:\n",
    "    print(\"Invalid Month\")"
   ]
  },
  {
   "cell_type": "markdown",
   "metadata": {},
   "source": [
    "The following list contains some fruits:\n",
    "\n",
    "fruits = ['banana', 'orange', 'mango', 'lemon']\n",
    "If a fruit doesn't exist in the list add the fruit to the list and print the modified list. If the fruit exists print('That fruit already exist in the list')\n",
    "\n"
   ]
  },
  {
   "cell_type": "code",
   "execution_count": 35,
   "metadata": {},
   "outputs": [
    {
     "name": "stdout",
     "output_type": "stream",
     "text": [
      "['banana', 'orange', 'mango', 'lemon', 'grapes']\n"
     ]
    }
   ],
   "source": [
    "fruits = ['banana', 'orange', 'mango', 'lemon']\n",
    "\n",
    "fruit = input(\"Enter the fruit\")\n",
    "\n",
    "if fruit in fruits:\n",
    "    print(\"{} is already in fruits list {}\".format(fruit,fruits))\n",
    "else:\n",
    "    fruits.append(fruit)\n",
    "    print(fruits)"
   ]
  },
  {
   "cell_type": "markdown",
   "metadata": {},
   "source": [
    "Here we have a person dictionary. Feel free to modify it!\n",
    "\n",
    "        person={\n",
    "    'first_name': 'Asabeneh',\n",
    "    'last_name': 'Yetayeh',\n",
    "    'age': 250,\n",
    "    'country': 'Finland',\n",
    "    'is_marred': True,\n",
    "    'skills': ['JavaScript', 'React', 'Node', 'MongoDB', 'Python'],\n",
    "    'address': {\n",
    "        'street': 'Space street',\n",
    "        'zipcode': '02210'\n",
    "    }\n",
    "    }"
   ]
  },
  {
   "cell_type": "code",
   "execution_count": 39,
   "metadata": {},
   "outputs": [],
   "source": [
    "person={\n",
    "    'first_name': 'Asabeneh',\n",
    "    'last_name': 'Yetayeh',\n",
    "    'age': 250,\n",
    "    'country': 'Finland',\n",
    "    'is_marred': True,\n",
    "    'skills': ['JavaScript', 'React', 'Node', 'MongoDB', 'Python'],\n",
    "    'address': {\n",
    "        'street': 'Space street',\n",
    "        'zipcode': '02210'\n",
    "    }\n",
    "    }"
   ]
  },
  {
   "cell_type": "markdown",
   "metadata": {},
   "source": [
    " * Check if the person dictionary has skills key, if so print out the middle skill in the skills list.\n",
    " * Check if the person dictionary has skills key, if so check if the person has 'Python' skill and print out the result.\n",
    " * If a person skills has only JavaScript and React, print('He is a front end developer'), if the person skills has Node, Python, MongoDB, print('He is a backend developer'), if the person skills has React, Node and MongoDB, Print('He is a fullstack developer'), else print('unknown title') - for more accurate results more conditions can be nested!\n",
    " * If the person is married and if he lives in Finland, print the information in the following format:\n",
    " Asabeneh Yetayeh lives in Finland. He is married."
   ]
  },
  {
   "cell_type": "code",
   "execution_count": 46,
   "metadata": {},
   "outputs": [
    {
     "name": "stdout",
     "output_type": "stream",
     "text": [
      "Node\n",
      "Python is in person skills list\n",
      "unknown title\n",
      "Asabeneh Yetayeh lives in Finland. He is married\n"
     ]
    }
   ],
   "source": [
    "if 'skills' in list(person.keys()):\n",
    "    print(person['skills'][int(len(list(person['skills']))/2)])\n",
    "else:\n",
    "    print(\"No Skills key in person dict\")\n",
    "\n",
    "if 'skills' in list(person.keys()):\n",
    "    if 'Python' in person['skills']:\n",
    "        print(\"Python is in person skills list\")\n",
    "    else:\n",
    "        print(\"Python is not in person skills list\")\n",
    "else:\n",
    "    print(\"No Skills key in person dict\")\n",
    "\n",
    "if {'Javascript','React'}.isdisjoint(set(person['skills'])):\n",
    "    print(\"He is a Front end Developer\")\n",
    "elif {'Node','Python','MongoDB'}.isdisjoint(set(person['skills'])):\n",
    "    print(\"He is a Backend developer\")\n",
    "elif {'React','Node','MongoDB'}.isdisjoint(set(person['skills'])):\n",
    "    print(\"He is a fullstack developer\")\n",
    "else:\n",
    "    print('unknown title')\n",
    "\n",
    "if person['is_marred'] and person['country'] == \"Finland\":\n",
    "    print(\"{} {} lives in {}. He is married\".format(person['first_name'],person['last_name'],person['country']))"
   ]
  }
 ],
 "metadata": {
  "kernelspec": {
   "display_name": "Python 3",
   "language": "python",
   "name": "python3"
  },
  "language_info": {
   "codemirror_mode": {
    "name": "ipython",
    "version": 3
   },
   "file_extension": ".py",
   "mimetype": "text/x-python",
   "name": "python",
   "nbconvert_exporter": "python",
   "pygments_lexer": "ipython3",
   "version": "3.9.6"
  }
 },
 "nbformat": 4,
 "nbformat_minor": 2
}

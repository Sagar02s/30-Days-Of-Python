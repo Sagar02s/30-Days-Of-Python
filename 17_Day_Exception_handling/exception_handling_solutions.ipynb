{
 "cells": [
  {
   "cell_type": "code",
   "execution_count": 1,
   "metadata": {},
   "outputs": [],
   "source": [
    "names = ['Finland', 'Sweden', 'Norway','Denmark','Iceland', 'Estonia','Russia']"
   ]
  },
  {
   "cell_type": "markdown",
   "metadata": {},
   "source": [
    " Unpack the first five countries and store them in a variable nordic_countries, store Estonia and Russia in es, and ru respectively."
   ]
  }
 ],
 "metadata": {
  "kernelspec": {
   "display_name": "Python 3",
   "language": "python",
   "name": "python3"
  },
  "language_info": {
   "codemirror_mode": {
    "name": "ipython",
    "version": 3
   },
   "file_extension": ".py",
   "mimetype": "text/x-python",
   "name": "python",
   "nbconvert_exporter": "python",
   "pygments_lexer": "ipython3",
   "version": "3.12.3"
  }
 },
 "nbformat": 4,
 "nbformat_minor": 2
}

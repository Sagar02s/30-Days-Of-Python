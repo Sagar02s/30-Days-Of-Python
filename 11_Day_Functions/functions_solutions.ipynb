{
 "cells": [
  {
   "cell_type": "markdown",
   "metadata": {},
   "source": [
    "Declare a function add_two_numbers. It takes two parameters and it returns a sum."
   ]
  },
  {
   "cell_type": "code",
   "execution_count": 32,
   "metadata": {},
   "outputs": [],
   "source": [
    "def add_two_numbers(num1,num2):\n",
    "    return num1+num2"
   ]
  },
  {
   "cell_type": "markdown",
   "metadata": {},
   "source": [
    "Area of a circle is calculated as follows: area = π x r x r. Write a function that calculates area_of_circle."
   ]
  },
  {
   "cell_type": "code",
   "execution_count": 33,
   "metadata": {},
   "outputs": [],
   "source": [
    "def area_of_circle(radius):\n",
    "    return 3.14*radius*radius"
   ]
  },
  {
   "cell_type": "markdown",
   "metadata": {},
   "source": [
    "Write a function called add_all_nums which takes arbitrary number of arguments and sums all the arguments. Check if all the list items are number types. If not do give a reasonable feedback."
   ]
  },
  {
   "cell_type": "code",
   "execution_count": 34,
   "metadata": {},
   "outputs": [
    {
     "name": "stdout",
     "output_type": "stream",
     "text": [
      "Sum of given list of numbers (3, 4, 5, 8) is 20.\n"
     ]
    }
   ],
   "source": [
    "def add_all_nums(*args):\n",
    "    list_nums = False\n",
    "    for item in args:\n",
    "        if type(item) == int or type(item)== float:\n",
    "            list_nums = True\n",
    "                \n",
    "        else:\n",
    "            list_nums = False\n",
    "            break\n",
    "        \n",
    "\n",
    "    if list_nums:\n",
    "        return \"Sum of given list of numbers {} is {}.\".format(args,sum(args))\n",
    "    else:\n",
    "        return \"Please do pass valid numbers as a parameters in add_all_nums() function\"\n",
    "    \n",
    "\n",
    "result = add_all_nums(3,4,5,8)\n",
    "print(result)"
   ]
  },
  {
   "cell_type": "markdown",
   "metadata": {},
   "source": [
    "Temperature in °C can be converted to °F using this formula: °F = (°C x 9/5) + 32. Write a function which converts °C to °F, convert_celsius_to-fahrenheit."
   ]
  },
  {
   "cell_type": "code",
   "execution_count": 35,
   "metadata": {},
   "outputs": [
    {
     "ename": "ValueError",
     "evalue": "could not convert string to float: ''",
     "output_type": "error",
     "traceback": [
      "\u001b[0;31m---------------------------------------------------------------------------\u001b[0m",
      "\u001b[0;31mValueError\u001b[0m                                Traceback (most recent call last)",
      "Cell \u001b[0;32mIn[35], line 4\u001b[0m\n\u001b[1;32m      1\u001b[0m \u001b[38;5;28;01mdef\u001b[39;00m \u001b[38;5;21mconvert_celsius_toFahrenheit\u001b[39m(c):\n\u001b[1;32m      2\u001b[0m     \u001b[38;5;28;01mreturn\u001b[39;00m (c\u001b[38;5;241m*\u001b[39m\u001b[38;5;241m9\u001b[39m\u001b[38;5;241m/\u001b[39m\u001b[38;5;241m5\u001b[39m) \u001b[38;5;241m+\u001b[39m\u001b[38;5;241m32.\u001b[39m\n\u001b[0;32m----> 4\u001b[0m c \u001b[38;5;241m=\u001b[39m \u001b[38;5;28;43mfloat\u001b[39;49m\u001b[43m(\u001b[49m\u001b[38;5;28;43minput\u001b[39;49m\u001b[43m(\u001b[49m\u001b[38;5;124;43m\"\u001b[39;49m\u001b[38;5;124;43mEnter the temparature in °C\u001b[39;49m\u001b[38;5;124;43m\"\u001b[39;49m\u001b[43m)\u001b[49m\u001b[43m)\u001b[49m\n\u001b[1;32m      5\u001b[0m result \u001b[38;5;241m=\u001b[39m convert_celsius_toFahrenheit(c)\n\u001b[1;32m      6\u001b[0m \u001b[38;5;28mprint\u001b[39m(\u001b[38;5;124m\"\u001b[39m\u001b[38;5;132;01m{}\u001b[39;00m\u001b[38;5;124m°C is equal to \u001b[39m\u001b[38;5;132;01m{}\u001b[39;00m\u001b[38;5;124m°F \u001b[39m\u001b[38;5;124m\"\u001b[39m\u001b[38;5;241m.\u001b[39mformat(c,result))\n",
      "\u001b[0;31mValueError\u001b[0m: could not convert string to float: ''"
     ]
    }
   ],
   "source": [
    "def convert_celsius_toFahrenheit(c):\n",
    "    return (c*9/5) +32.\n",
    "\n",
    "c = float(input(\"Enter the temparature in °C\"))\n",
    "result = convert_celsius_toFahrenheit(c)\n",
    "print(\"{}°C is equal to {}°F \".format(c,result))"
   ]
  },
  {
   "cell_type": "markdown",
   "metadata": {},
   "source": [
    "Write a function called check-season, it takes a month parameter and returns the season: Autumn, Winter, Spring or Summer."
   ]
  },
  {
   "cell_type": "code",
   "execution_count": null,
   "metadata": {},
   "outputs": [
    {
     "name": "stdout",
     "output_type": "stream",
     "text": [
      "Season is Spring\n"
     ]
    }
   ],
   "source": [
    "def check_season(month):\n",
    "    month = month[:3].lower()\n",
    "    if month in ['dec','jan','feb']:\n",
    "        return \"Season is Autumn\"\n",
    "    elif month in ['sept','oct','nov']:\n",
    "        return \"Season is Winter\"\n",
    "    elif month in ['mar','apr','may']:\n",
    "        return \"Season is Spring\"\n",
    "    elif month in ['jun','jul','aug']:\n",
    "        return \"Season is Summer\"\n",
    "    else:\n",
    "        return \"Enter a valid month\"\n",
    "    \n",
    "\n",
    "result = check_season('April')\n",
    "print(result)"
   ]
  },
  {
   "cell_type": "markdown",
   "metadata": {},
   "source": [
    "Write a function called calculate_slope which return the slope of a linear equation\n",
    "slope = (y2-y1)/(x2-x1)"
   ]
  },
  {
   "cell_type": "markdown",
   "metadata": {},
   "source": [
    "Quadratic equation is calculated as follows: ax² + bx + c = 0. Write a function which calculates solution set of a quadratic equation, solve_quadratic_eqn."
   ]
  },
  {
   "cell_type": "markdown",
   "metadata": {},
   "source": [
    "Declare a function named print_list. It takes a list as a parameter and it prints out each element of the list."
   ]
  },
  {
   "cell_type": "code",
   "execution_count": null,
   "metadata": {},
   "outputs": [
    {
     "name": "stdout",
     "output_type": "stream",
     "text": [
      "1\n",
      "2\n",
      "3\n",
      "4\n",
      "5\n"
     ]
    }
   ],
   "source": [
    "def print_list(lst):\n",
    "    for ele in lst:\n",
    "        print( ele )\n",
    "\n",
    "print_list([1,2,3,4,5])"
   ]
  },
  {
   "cell_type": "markdown",
   "metadata": {},
   "source": [
    "Declare a function named reverse_list. It takes an array as a parameter and it returns the reverse of the array (use loops).\n",
    "print(reverse_list([1, 2, 3, 4, 5]))\n",
    "# [5, 4, 3, 2, 1]\n",
    "print(reverse_list1([\"A\", \"B\", \"C\"]))\n",
    "# [\"C\", \"B\", \"A\"]"
   ]
  },
  {
   "cell_type": "code",
   "execution_count": null,
   "metadata": {},
   "outputs": [
    {
     "name": "stdout",
     "output_type": "stream",
     "text": [
      "[5, 4, 3, 2, 1]\n",
      "['C', 'B', 'A']\n"
     ]
    }
   ],
   "source": [
    "def reverse_list(lst):\n",
    "    reversed_list = []\n",
    "    for ele in lst[::-1]:\n",
    "        reversed_list.append(ele)\n",
    "    return reversed_list\n",
    "    \n",
    "\n",
    "result1 = reverse_list([1,2,3,4,5])\n",
    "result2 = reverse_list([\"A\",\"B\",\"C\"])\n",
    "\n",
    "print(result1)\n",
    "print(result2)"
   ]
  },
  {
   "cell_type": "markdown",
   "metadata": {},
   "source": [
    "Declare a function named capitalize_list_items. It takes a list as a parameter and it returns a capitalized list of items"
   ]
  },
  {
   "cell_type": "code",
   "execution_count": null,
   "metadata": {},
   "outputs": [
    {
     "name": "stdout",
     "output_type": "stream",
     "text": [
      "['Sagar', 'Srinivas']\n"
     ]
    }
   ],
   "source": [
    "def capitalize_list(lst):\n",
    "    capitalized_list = []\n",
    "    for elem in lst:\n",
    "        capitalized_list.append(elem.capitalize())\n",
    "    return capitalized_list\n",
    "\n",
    "result = capitalize_list(['sagar','srinivas'])\n",
    "print(result)"
   ]
  },
  {
   "cell_type": "markdown",
   "metadata": {},
   "source": [
    "Declare a function named add_item. It takes a list and an item parameters. It returns a list with the item added at the end.\n",
    "food_staff = ['Potato', 'Tomato', 'Mango', 'Milk'];\n",
    "print(add_item(food_staff, 'Meat'))     # ['Potato', 'Tomato', 'Mango', 'Milk','Meat'];\n",
    "numbers = [2, 3, 7, 9];\n",
    "print(add_item(numbers, 5))      [2, 3, 7, 9, 5]"
   ]
  },
  {
   "cell_type": "code",
   "execution_count": null,
   "metadata": {},
   "outputs": [
    {
     "name": "stdout",
     "output_type": "stream",
     "text": [
      "['Potato', 'Tomato', 'Mango', 'Milk', 'Meat']\n",
      "[2, 3, 7, 9, 5]\n"
     ]
    }
   ],
   "source": [
    "def add_item(lst_name,item):\n",
    "    lst_name.append(item)\n",
    "    return lst_name\n",
    "\n",
    "food_staff = ['Potato', 'Tomato', 'Mango', 'Milk']\n",
    "numbers = [2, 3, 7, 9]\n",
    "\n",
    "print(add_item(food_staff, 'Meat')) \n",
    "print(add_item(numbers, 5)) "
   ]
  },
  {
   "cell_type": "markdown",
   "metadata": {},
   "source": [
    "Declare a function named remove_item. It takes a list and an item parameters. It returns a list with the item removed from it.\n",
    "food_staff = ['Potato', 'Tomato', 'Mango', 'Milk'];\n",
    "print(remove_item(food_staff, 'Mango'))  # ['Potato', 'Tomato', 'Milk'];\n",
    "numbers = [2, 3, 7, 9];\n",
    "print(remove_item(numbers, 3))  # [2, 7, 9]"
   ]
  },
  {
   "cell_type": "code",
   "execution_count": null,
   "metadata": {},
   "outputs": [
    {
     "name": "stdout",
     "output_type": "stream",
     "text": [
      "['Potato', 'Tomato', 'Mango']\n",
      "[2, 7, 9]\n"
     ]
    }
   ],
   "source": [
    "def remove_item(lst_name,item):\n",
    "    lst_name.remove(item)\n",
    "    return lst_name\n",
    "\n",
    "food_staff = ['Potato', 'Tomato', 'Mango', 'Milk']\n",
    "numbers = [2, 3, 7, 9]\n",
    "\n",
    "print(remove_item(food_staff, 'Milk')) \n",
    "print(remove_item(numbers, 3)) "
   ]
  },
  {
   "cell_type": "markdown",
   "metadata": {},
   "source": [
    "Declare a function named sum_of_numbers. It takes a number parameter and it adds all the numbers in that range.\n",
    "print(sum_of_numbers(5))  # 15\n",
    "print(sum_all_numbers(10)) # 55\n",
    "print(sum_all_numbers(100)) # 5050"
   ]
  },
  {
   "cell_type": "code",
   "execution_count": null,
   "metadata": {},
   "outputs": [
    {
     "name": "stdout",
     "output_type": "stream",
     "text": [
      "55\n"
     ]
    }
   ],
   "source": [
    "def sum_of_number(range_len):\n",
    "    return sum([num for num in range(range_len+1)])\n",
    "\n",
    "range_len = int(input(\"Enter the Range length\"))\n",
    "\n",
    "print(sum_of_number(range_len))\n"
   ]
  },
  {
   "cell_type": "markdown",
   "metadata": {},
   "source": [
    "Declare a function named sum_of_odds. It takes a number parameter and it adds all the odd numbers in that range."
   ]
  },
  {
   "cell_type": "code",
   "execution_count": null,
   "metadata": {},
   "outputs": [
    {
     "name": "stdout",
     "output_type": "stream",
     "text": [
      "9\n"
     ]
    }
   ],
   "source": [
    "def sum_of_odds(range_len):\n",
    "    return sum([num for num in range(range_len+1) if num%2 != 0] )\n",
    "\n",
    "range_len = int(input(\"Enter the Range length\"))\n",
    "\n",
    "print(sum_of_odds(range_len))"
   ]
  },
  {
   "cell_type": "markdown",
   "metadata": {},
   "source": [
    "Declare a function named sum_of_even. It takes a number parameter and it adds all the even numbers in that - range."
   ]
  },
  {
   "cell_type": "code",
   "execution_count": null,
   "metadata": {},
   "outputs": [
    {
     "name": "stdout",
     "output_type": "stream",
     "text": [
      "6\n"
     ]
    }
   ],
   "source": [
    "def sum_of_even(range_len):\n",
    "    return sum([num for num in range(range_len+1) if num%2 == 0] )\n",
    "\n",
    "range_len = int(input(\"Enter the Range length\"))\n",
    "\n",
    "print(sum_of_even(range_len))"
   ]
  },
  {
   "cell_type": "markdown",
   "metadata": {},
   "source": [
    "Declare a function named evens_and_odds . It takes a positive integer as parameter and it counts number of evens and odds in the number.\n",
    "    print(evens_and_odds(100))\n",
    "    # The number of odds are 50.\n",
    "    # The number of evens are 51."
   ]
  },
  {
   "cell_type": "code",
   "execution_count": null,
   "metadata": {},
   "outputs": [
    {
     "name": "stdout",
     "output_type": "stream",
     "text": [
      "51 50\n"
     ]
    }
   ],
   "source": [
    "def evens_and_odds(range_len):\n",
    "    evens = 0\n",
    "    odds = 0\n",
    "    for num in range(range_len+1):\n",
    "        if num%2 ==0:\n",
    "            evens+=1\n",
    "        elif num%2 !=0:\n",
    "            odds+=1\n",
    "        else:\n",
    "            pass\n",
    "    \n",
    "    return evens,odds\n",
    "\n",
    "range_len = int(input(\"Enter the Range length\"))\n",
    "evens,odds = evens_and_odds(range_len)\n",
    "\n",
    "print(evens,odds)"
   ]
  },
  {
   "cell_type": "markdown",
   "metadata": {},
   "source": [
    "Call your function factorial, it takes a whole number as a parameter and it return a factorial of the number"
   ]
  },
  {
   "cell_type": "code",
   "execution_count": 42,
   "metadata": {},
   "outputs": [
    {
     "data": {
      "text/plain": [
       "24"
      ]
     },
     "execution_count": 42,
     "metadata": {},
     "output_type": "execute_result"
    }
   ],
   "source": [
    "def factorial(num):\n",
    "    fact =1\n",
    "    for n in range(1,num+1):\n",
    "        fact *=n\n",
    "    return fact\n",
    "\n",
    "\n",
    "num = int(input(\"Enter the number\"))\n",
    "factorial(num)"
   ]
  },
  {
   "cell_type": "markdown",
   "metadata": {},
   "source": [
    "Call your function is_empty, it takes a parameter and it checks if it is empty or not"
   ]
  },
  {
   "cell_type": "code",
   "execution_count": 46,
   "metadata": {},
   "outputs": [
    {
     "name": "stdout",
     "output_type": "stream",
     "text": [
      "False\n"
     ]
    }
   ],
   "source": [
    "def is_empty(param):\n",
    "    if len(param) == 0:\n",
    "        return True\n",
    "    else:\n",
    "        return False\n",
    "\n",
    "print(is_empty([1,1]))"
   ]
  },
  {
   "cell_type": "markdown",
   "metadata": {},
   "source": [
    "Write different functions which take lists. They should calculate_mean, calculate_median, calculate_mode, calculate_range, calculate_variance, calculate_std (standard deviation)."
   ]
  },
  {
   "cell_type": "code",
   "execution_count": 57,
   "metadata": {},
   "outputs": [
    {
     "name": "stdout",
     "output_type": "stream",
     "text": [
      "Mean:  3.6666666666666665\n",
      "Median:  4.0\n",
      "Mode:  {3, 4, 5}\n",
      "Range:  1-6\n",
      "Variance:  2.2222222222222223\n",
      "Standard Deviation:  1.4907119849998598\n"
     ]
    }
   ],
   "source": [
    "def calculate_mean(lst):\n",
    "    return sum(lst)/len(lst)\n",
    "    \n",
    "\n",
    "def calculate_median(lst):\n",
    "    lst.sort()\n",
    "    mid = len(lst)//2\n",
    "    return (lst[mid]+lst[mid])/2\n",
    "\n",
    "\n",
    "def calculate_mode(lst):\n",
    "    uniq_vals =[]\n",
    "    mode_vals = []\n",
    "    for i in lst:\n",
    "        if i not in uniq_vals:\n",
    "            uniq_vals.append(i)\n",
    "        else:\n",
    "            mode_vals.append(i)\n",
    "    return set(mode_vals)\n",
    "\n",
    "    \n",
    "def calculate_range(lst):\n",
    "    return \"{}-{}\".format(min(lst),max(lst))\n",
    "    \n",
    "def calculate_variance(lst):\n",
    "    mean = calculate_mean(lst)\n",
    "    return sum((i-mean)**2 for i in lst)/len(lst)\n",
    "    \n",
    "def calculate_std(lst):\n",
    "    varriance = calculate_variance(lst)\n",
    "    return varriance**0.5\n",
    "\n",
    "\n",
    "lst = [1,2,3,3,4,5,4,5,6]\n",
    "print(\"Mean: \",calculate_mean(lst))\n",
    "print(\"Median: \",calculate_median(lst))\n",
    "print(\"Mode: \",calculate_mode(lst))\n",
    "print(\"Range: \",calculate_range(lst))\n",
    "print(\"Variance: \",calculate_variance(lst))\n",
    "print(\"Standard Deviation: \",calculate_std(lst))"
   ]
  },
  {
   "cell_type": "markdown",
   "metadata": {},
   "source": [
    "Write a function called is_prime, which checks if a number is prime."
   ]
  },
  {
   "cell_type": "markdown",
   "metadata": {},
   "source": [
    "Write a functions which checks if all items are unique in the list."
   ]
  },
  {
   "cell_type": "markdown",
   "metadata": {},
   "source": [
    "Write a function which checks if all the items of the list are of the same data type."
   ]
  },
  {
   "cell_type": "markdown",
   "metadata": {},
   "source": [
    "Write a function which check if provided variable is a valid python variable"
   ]
  },
  {
   "cell_type": "markdown",
   "metadata": {},
   "source": [
    "Go to the data folder and access the countries-data.py file."
   ]
  },
  {
   "cell_type": "markdown",
   "metadata": {},
   "source": [
    "Create a function called the most_spoken_languages in the world. It should return 10 or 20 most spoken languages in the world in descending order"
   ]
  },
  {
   "cell_type": "markdown",
   "metadata": {},
   "source": [
    "Create a function called the most_populated_countries. It should return 10 or 20 most populated countries in descending order."
   ]
  }
 ],
 "metadata": {
  "kernelspec": {
   "display_name": "Python 3",
   "language": "python",
   "name": "python3"
  },
  "language_info": {
   "codemirror_mode": {
    "name": "ipython",
    "version": 3
   },
   "file_extension": ".py",
   "mimetype": "text/x-python",
   "name": "python",
   "nbconvert_exporter": "python",
   "pygments_lexer": "ipython3",
   "version": "3.9.6"
  }
 },
 "nbformat": 4,
 "nbformat_minor": 2
}

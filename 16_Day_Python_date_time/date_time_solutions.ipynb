{
 "cells": [
  {
   "cell_type": "markdown",
   "metadata": {},
   "source": [
    "Get the current day, month, year, hour, minute and timestamp from datetime module"
   ]
  },
  {
   "cell_type": "markdown",
   "metadata": {},
   "source": [
    "Format the current date using this format: (\"%m/%d/%Y, %H:%M:%S\")"
   ]
  },
  {
   "cell_type": "markdown",
   "metadata": {},
   "source": [
    "Today is 5 December, 2019. Change this time string to time."
   ]
  },
  {
   "cell_type": "markdown",
   "metadata": {},
   "source": [
    "Calculate the time difference between now and new year."
   ]
  },
  {
   "cell_type": "markdown",
   "metadata": {},
   "source": [
    "Calculate the time difference between 1 January 1970 and now."
   ]
  },
  {
   "cell_type": "markdown",
   "metadata": {},
   "source": [
    "Think, what can you use the datetime module for? Examples:\n",
    "Time series analysis\n",
    "To get a timestamp of any activities in an application\n",
    "Adding posts on a blog"
   ]
  }
 ],
 "metadata": {
  "language_info": {
   "name": "python"
  }
 },
 "nbformat": 4,
 "nbformat_minor": 2
}

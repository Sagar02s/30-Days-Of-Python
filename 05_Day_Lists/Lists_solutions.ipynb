{
 "cells": [
  {
   "cell_type": "code",
   "execution_count": 89,
   "metadata": {},
   "outputs": [],
   "source": [
    "# Import Statements\n",
    "import math"
   ]
  },
  {
   "cell_type": "markdown",
   "metadata": {},
   "source": [
    "Declare an empty list"
   ]
  },
  {
   "cell_type": "code",
   "execution_count": null,
   "metadata": {},
   "outputs": [],
   "source": [
    "sampleList = []"
   ]
  },
  {
   "cell_type": "markdown",
   "metadata": {},
   "source": [
    "Declare a list with more than 5 items"
   ]
  },
  {
   "cell_type": "code",
   "execution_count": 3,
   "metadata": {},
   "outputs": [],
   "source": [
    "colorsList = ['Blue','Green','Red','Orange','White','Yellow','Pink','Grey','Black','Purple']"
   ]
  },
  {
   "cell_type": "markdown",
   "metadata": {},
   "source": [
    "Find the length of your list"
   ]
  },
  {
   "cell_type": "code",
   "execution_count": 13,
   "metadata": {},
   "outputs": [
    {
     "name": "stdout",
     "output_type": "stream",
     "text": [
      "10\n"
     ]
    }
   ],
   "source": [
    "print(len(colorsList))"
   ]
  },
  {
   "cell_type": "markdown",
   "metadata": {},
   "source": [
    "Get the first item, the middle item and the last item of the list"
   ]
  },
  {
   "cell_type": "code",
   "execution_count": 20,
   "metadata": {},
   "outputs": [
    {
     "name": "stdout",
     "output_type": "stream",
     "text": [
      "First Item:  Blue\n",
      "Middle Item:  Yellow\n",
      "Last Item:  Purple\n"
     ]
    }
   ],
   "source": [
    "\n",
    "\n",
    "print(\"First Item: \",colorsList[0] )\n",
    "print(\"Middle Item: \",colorsList[int(len(colorsList)/2)])\n",
    "print(\"Last Item: \",colorsList[-1] )"
   ]
  },
  {
   "cell_type": "markdown",
   "metadata": {},
   "source": [
    "Declare a list called mixed_data_types, put your(name, age, height, marital status, address)"
   ]
  },
  {
   "cell_type": "code",
   "execution_count": 21,
   "metadata": {},
   "outputs": [],
   "source": [
    "mixed_data_types = ['Sagar',29,5.11,'Married','Bangalore']"
   ]
  },
  {
   "cell_type": "markdown",
   "metadata": {},
   "source": [
    "Declare a list variable named it_companies and assign initial values Facebook, Google, Microsoft, Apple, IBM, Oracle and Amazon."
   ]
  },
  {
   "cell_type": "code",
   "execution_count": 31,
   "metadata": {},
   "outputs": [],
   "source": [
    "it_companies = ['Facebook','Google','Microsoft','Apple','IBM','Oracle','Amazon']"
   ]
  },
  {
   "cell_type": "markdown",
   "metadata": {},
   "source": [
    "Print the list using print()"
   ]
  },
  {
   "cell_type": "code",
   "execution_count": 32,
   "metadata": {},
   "outputs": [
    {
     "name": "stdout",
     "output_type": "stream",
     "text": [
      "['Facebook', 'Google', 'Microsoft', 'Apple', 'IBM', 'Oracle', 'Amazon']\n"
     ]
    }
   ],
   "source": [
    "print(it_companies)"
   ]
  },
  {
   "cell_type": "markdown",
   "metadata": {},
   "source": [
    "Print the number of companies in the list"
   ]
  },
  {
   "cell_type": "code",
   "execution_count": 33,
   "metadata": {},
   "outputs": [
    {
     "name": "stdout",
     "output_type": "stream",
     "text": [
      "Number of companies in a list:  7\n"
     ]
    }
   ],
   "source": [
    "print(\"Number of companies in a list: \",len(it_companies))"
   ]
  },
  {
   "cell_type": "markdown",
   "metadata": {},
   "source": [
    "Print the first, middle and last company"
   ]
  },
  {
   "cell_type": "code",
   "execution_count": 34,
   "metadata": {},
   "outputs": [
    {
     "name": "stdout",
     "output_type": "stream",
     "text": [
      "First Item:  Facebook\n",
      "Middle Item:  Oracle\n",
      "Last Item:  Amazon\n"
     ]
    }
   ],
   "source": [
    "print(\"First Item: \",it_companies[0] )\n",
    "print(\"Middle Item: \",it_companies[int(len(colorsList)/2)])\n",
    "print(\"Last Item: \",it_companies[-1] )"
   ]
  },
  {
   "cell_type": "markdown",
   "metadata": {},
   "source": [
    "Print the list after modifying one of the companies"
   ]
  },
  {
   "cell_type": "code",
   "execution_count": 35,
   "metadata": {},
   "outputs": [
    {
     "name": "stdout",
     "output_type": "stream",
     "text": [
      "['Facebook', 'Google', 'Microsoft', 'Apple', 'IBM', 'Infosys', 'Amazon']\n"
     ]
    }
   ],
   "source": [
    "it_companies[5] = 'Infosys'\n",
    "print(it_companies)"
   ]
  },
  {
   "cell_type": "markdown",
   "metadata": {},
   "source": [
    "Add an IT company to it_companies"
   ]
  },
  {
   "cell_type": "code",
   "execution_count": 36,
   "metadata": {},
   "outputs": [
    {
     "name": "stdout",
     "output_type": "stream",
     "text": [
      "['Facebook', 'Google', 'Microsoft', 'Apple', 'IBM', 'Infosys', 'Amazon', 'Oracle']\n"
     ]
    }
   ],
   "source": [
    "it_companies.append('Oracle')\n",
    "print(it_companies)"
   ]
  },
  {
   "cell_type": "markdown",
   "metadata": {},
   "source": [
    "Insert an IT company in the middle of the companies list"
   ]
  },
  {
   "cell_type": "code",
   "execution_count": 37,
   "metadata": {},
   "outputs": [
    {
     "name": "stdout",
     "output_type": "stream",
     "text": [
      "['Facebook', 'Google', 'Microsoft', 'Apple', 'TCL', 'IBM', 'Infosys', 'Amazon', 'Oracle']\n"
     ]
    }
   ],
   "source": [
    "it_companies.insert(int(len(it_companies)/2),'TCL')\n",
    "print(it_companies)"
   ]
  },
  {
   "cell_type": "markdown",
   "metadata": {},
   "source": [
    "Change one of the it_companies names to uppercase (IBM excluded!)"
   ]
  },
  {
   "cell_type": "code",
   "execution_count": 38,
   "metadata": {},
   "outputs": [
    {
     "name": "stdout",
     "output_type": "stream",
     "text": [
      "['Facebook', 'Google', 'MICROSOFT', 'Apple', 'TCL', 'IBM', 'Infosys', 'Amazon', 'Oracle']\n"
     ]
    }
   ],
   "source": [
    "it_companies[2] = it_companies[2].upper()\n",
    "print(it_companies)"
   ]
  },
  {
   "cell_type": "markdown",
   "metadata": {},
   "source": [
    "Join the it_companies with a string '#;  '"
   ]
  },
  {
   "cell_type": "code",
   "execution_count": 40,
   "metadata": {},
   "outputs": [
    {
     "name": "stdout",
     "output_type": "stream",
     "text": [
      "['#Facebook;', '#Google;', '#MICROSOFT;', '#Apple;', '#TCL;', '#IBM;', '#Infosys;', '#Amazon;', '#Oracle;']\n"
     ]
    }
   ],
   "source": [
    "it_hash_companies = []\n",
    "for company in it_companies:\n",
    "    it_hash_companies.append(\"#{};\".format(company))\n",
    "\n",
    "print(it_hash_companies)"
   ]
  },
  {
   "cell_type": "markdown",
   "metadata": {},
   "source": [
    "Check if a certain company exists in the it_companies list."
   ]
  },
  {
   "cell_type": "code",
   "execution_count": 44,
   "metadata": {},
   "outputs": [
    {
     "name": "stdout",
     "output_type": "stream",
     "text": [
      "True\n",
      "False\n"
     ]
    }
   ],
   "source": [
    "result1 = 'IBM' in it_companies\n",
    "result2 = 'TechMahindra' in it_companies\n",
    "print(result1)\n",
    "print(result2)"
   ]
  },
  {
   "cell_type": "markdown",
   "metadata": {},
   "source": [
    "Sort the list using sort() method"
   ]
  },
  {
   "cell_type": "code",
   "execution_count": 48,
   "metadata": {},
   "outputs": [
    {
     "name": "stdout",
     "output_type": "stream",
     "text": [
      "['Amazon', 'Apple', 'Facebook', 'Google', 'IBM', 'Infosys', 'MICROSOFT', 'Oracle', 'TCL']\n"
     ]
    }
   ],
   "source": [
    "it_companies.sort()\n",
    "print(it_companies)"
   ]
  },
  {
   "cell_type": "markdown",
   "metadata": {},
   "source": [
    "Reverse the list in descending order using reverse() method"
   ]
  },
  {
   "cell_type": "code",
   "execution_count": 49,
   "metadata": {},
   "outputs": [
    {
     "name": "stdout",
     "output_type": "stream",
     "text": [
      "['TCL', 'Oracle', 'MICROSOFT', 'Infosys', 'IBM', 'Google', 'Facebook', 'Apple', 'Amazon']\n"
     ]
    }
   ],
   "source": [
    "it_companies.reverse()\n",
    "print(it_companies)"
   ]
  },
  {
   "cell_type": "markdown",
   "metadata": {},
   "source": [
    "Slice out the first 3 companies from the list"
   ]
  },
  {
   "cell_type": "code",
   "execution_count": 51,
   "metadata": {},
   "outputs": [
    {
     "name": "stdout",
     "output_type": "stream",
     "text": [
      "['TCL', 'Oracle', 'MICROSOFT']\n"
     ]
    }
   ],
   "source": [
    "print(it_companies[:3])"
   ]
  },
  {
   "cell_type": "markdown",
   "metadata": {},
   "source": [
    "Slice out the last 3 companies from the list"
   ]
  },
  {
   "cell_type": "code",
   "execution_count": 59,
   "metadata": {},
   "outputs": [
    {
     "name": "stdout",
     "output_type": "stream",
     "text": [
      "['Amazon', 'Apple', 'Facebook']\n"
     ]
    }
   ],
   "source": [
    "print(it_companies[:-4:-1])"
   ]
  },
  {
   "cell_type": "markdown",
   "metadata": {},
   "source": [
    "Slice out the middle IT company or companies from the list"
   ]
  },
  {
   "cell_type": "code",
   "execution_count": 62,
   "metadata": {},
   "outputs": [
    {
     "name": "stdout",
     "output_type": "stream",
     "text": [
      "['IBM', 'Google']\n"
     ]
    }
   ],
   "source": [
    "print(it_companies[3:-3])"
   ]
  },
  {
   "cell_type": "markdown",
   "metadata": {},
   "source": [
    "Remove the first IT company from the list"
   ]
  },
  {
   "cell_type": "code",
   "execution_count": 61,
   "metadata": {},
   "outputs": [
    {
     "name": "stdout",
     "output_type": "stream",
     "text": [
      "['TCL', 'Oracle', 'MICROSOFT', 'Infosys', 'IBM', 'Google', 'Facebook', 'Apple', 'Amazon']\n",
      "['Oracle', 'MICROSOFT', 'Infosys', 'IBM', 'Google', 'Facebook', 'Apple', 'Amazon']\n"
     ]
    }
   ],
   "source": [
    "print(it_companies)\n",
    "it_companies.pop(0)\n",
    "print(it_companies)"
   ]
  },
  {
   "cell_type": "markdown",
   "metadata": {},
   "source": [
    "Remove the middle IT company or companies from the list"
   ]
  },
  {
   "cell_type": "code",
   "execution_count": 63,
   "metadata": {},
   "outputs": [
    {
     "name": "stdout",
     "output_type": "stream",
     "text": [
      "['Oracle', 'MICROSOFT', 'Infosys', 'IBM', 'Google', 'Facebook', 'Apple', 'Amazon']\n",
      "['Oracle', 'MICROSOFT', 'Infosys', 'IBM', 'Facebook', 'Apple', 'Amazon']\n"
     ]
    }
   ],
   "source": [
    "print(it_companies)\n",
    "it_companies.pop(int(len(it_companies)/2))\n",
    "print(it_companies)"
   ]
  },
  {
   "cell_type": "markdown",
   "metadata": {},
   "source": [
    "Remove the last IT company from the list"
   ]
  },
  {
   "cell_type": "code",
   "execution_count": 64,
   "metadata": {},
   "outputs": [
    {
     "name": "stdout",
     "output_type": "stream",
     "text": [
      "['Oracle', 'MICROSOFT', 'Infosys', 'IBM', 'Facebook', 'Apple', 'Amazon']\n",
      "['Oracle', 'MICROSOFT', 'Infosys', 'IBM', 'Facebook', 'Apple']\n"
     ]
    }
   ],
   "source": [
    "print(it_companies)\n",
    "it_companies.pop()\n",
    "print(it_companies)"
   ]
  },
  {
   "cell_type": "markdown",
   "metadata": {},
   "source": [
    "Remove all IT companies from the list"
   ]
  },
  {
   "cell_type": "code",
   "execution_count": 65,
   "metadata": {},
   "outputs": [
    {
     "name": "stdout",
     "output_type": "stream",
     "text": [
      "['Oracle', 'MICROSOFT', 'Infosys', 'IBM', 'Facebook', 'Apple']\n",
      "[]\n"
     ]
    }
   ],
   "source": [
    "print(it_companies)\n",
    "it_companies.clear()\n",
    "print(it_companies)"
   ]
  },
  {
   "cell_type": "markdown",
   "metadata": {},
   "source": [
    "Destroy the IT companies list"
   ]
  },
  {
   "cell_type": "code",
   "execution_count": 66,
   "metadata": {},
   "outputs": [],
   "source": [
    "del(it_companies)"
   ]
  },
  {
   "cell_type": "markdown",
   "metadata": {},
   "source": [
    "Join the following lists:\n",
    "\n",
    "front_end = ['HTML', 'CSS', 'JS', 'React', 'Redux']\n",
    "back_end = ['Node','Express', 'MongoDB']"
   ]
  },
  {
   "cell_type": "code",
   "execution_count": 71,
   "metadata": {},
   "outputs": [
    {
     "name": "stdout",
     "output_type": "stream",
     "text": [
      "['HTML', 'CSS', 'JS', 'React', 'Redux', 'Node', 'Express', 'MongoDB']\n"
     ]
    }
   ],
   "source": [
    "front_end = ['HTML', 'CSS', 'JS', 'React', 'Redux']\n",
    "back_end = ['Node','Express', 'MongoDB']\n",
    "\n",
    "print(front_end+back_end)"
   ]
  },
  {
   "cell_type": "markdown",
   "metadata": {},
   "source": [
    "After joining the lists in question 26. Copy the joined list and assign it to a variable full_stack. Then insert Python and SQL after Redux."
   ]
  },
  {
   "cell_type": "code",
   "execution_count": 73,
   "metadata": {},
   "outputs": [
    {
     "name": "stdout",
     "output_type": "stream",
     "text": [
      "['HTML', 'CSS', 'JS', 'React', 'Redux', 'Node', 'Express', 'MongoDB']\n",
      "4\n",
      "['HTML', 'CSS', 'JS', 'React', 'Redux', 'Python', 'SQL', 'Node', 'Express', 'MongoDB']\n"
     ]
    }
   ],
   "source": [
    "FullStack = front_end+back_end\n",
    "print(FullStack)\n",
    "print(FullStack.index('Redux'))\n",
    "FullStack.insert(FullStack.index(\"Redux\")+1,\"Python\")\n",
    "FullStack.insert(FullStack.index(\"Python\")+1,\"SQL\")\n",
    "print(FullStack)"
   ]
  },
  {
   "cell_type": "markdown",
   "metadata": {},
   "source": [
    "The following is a list of 10 students ages:\n",
    "ages = [19, 22, 19, 24, 20, 25, 26, 24, 25, 24]\n",
    "Sort the list and find the min and max age\n",
    "Add the min age and the max age again to the list\n",
    "Find the median age (one middle item or two middle items divided by two)\n",
    "Find the average age (sum of all items divided by their number )\n",
    "Find the range of the ages (max minus min)\n",
    "Compare the value of (min - average) and (max - average), use abs() method\n"
   ]
  },
  {
   "cell_type": "code",
   "execution_count": 76,
   "metadata": {},
   "outputs": [
    {
     "name": "stdout",
     "output_type": "stream",
     "text": [
      "ages:  [19, 19, 20, 22, 24, 24, 24, 25, 25, 26]\n",
      "Min age 19\n",
      "Max age 26\n",
      "Median: 24\n",
      "Average 22.75\n",
      "Range of ages 19 - 26\n"
     ]
    },
    {
     "data": {
      "text/plain": [
       "7.0"
      ]
     },
     "execution_count": 76,
     "metadata": {},
     "output_type": "execute_result"
    }
   ],
   "source": [
    "ages = [19, 22, 19, 24, 20, 25, 26, 24, 25, 24]\n",
    "ages.sort()\n",
    "print(\"ages: \",ages)\n",
    "print(\"Min age\",min(ages))\n",
    "print(\"Max age\",max(ages))\n",
    "ages.append(min(ages))\n",
    "ages.append(max(ages))\n",
    "print(\"Median:\",ages[int(len(ages)/2)])\n",
    "average = sum(ages)/len(ages)\n",
    "print(\"Average\",average)\n",
    "print(\"Range of ages\",min(ages),\"-\",max(ages))\n",
    "abs((min(ages)-average)-(max(ages)-average))\n"
   ]
  },
  {
   "cell_type": "markdown",
   "metadata": {},
   "source": [
    "Find the middle country(ies) in the countries list"
   ]
  },
  {
   "cell_type": "code",
   "execution_count": 80,
   "metadata": {},
   "outputs": [],
   "source": [
    "countries = [\n",
    "  'Afghanistan',\n",
    "  'Albania',\n",
    "  'Algeria',\n",
    "  'Andorra',\n",
    "  'Angola',\n",
    "  'Antigua and Barbuda',\n",
    "  'Argentina',\n",
    "  'Armenia',\n",
    "  'Australia',\n",
    "  'Austria',\n",
    "  'Azerbaijan',\n",
    "  'Bahamas',\n",
    "  'Bahrain',\n",
    "  'Bangladesh',\n",
    "  'Barbados',\n",
    "  'Belarus',\n",
    "  'Belgium',\n",
    "  'Belize',\n",
    "  'Benin',\n",
    "  'Bhutan',\n",
    "  'Bolivia',\n",
    "  'Bosnia and Herzegovina',\n",
    "  'Botswana',\n",
    "  'Brazil',\n",
    "  'Brunei',\n",
    "  'Bulgaria',\n",
    "  'Burkina Faso',\n",
    "  'Burundi',\n",
    "  'Cambodia',\n",
    "  'Cameroon',\n",
    "  'Canada',\n",
    "  'Cape Verde',\n",
    "  'Central African Republic',\n",
    "  'Chad',\n",
    "  'Chile',\n",
    "  'China',\n",
    "  'Colombi',\n",
    "  'Comoros',\n",
    "  'Congo (Brazzaville)',\n",
    "  'Congo',\n",
    "  'Costa Rica',\n",
    "  \"Cote d'Ivoire\",\n",
    "  'Croatia',\n",
    "  'Cuba',\n",
    "  'Cyprus',\n",
    "  'Czech Republic',\n",
    "  'Denmark',\n",
    "  'Djibouti',\n",
    "  'Dominica',\n",
    "  'Dominican Republic',\n",
    "  'East Timor (Timor Timur)',\n",
    "  'Ecuador',\n",
    "  'Egypt',\n",
    "  'El Salvador',\n",
    "  'Equatorial Guinea',\n",
    "  'Eritrea',\n",
    "  'Estonia',\n",
    "  'Ethiopia',\n",
    "  'Fiji',\n",
    "  'Finland',\n",
    "  'France',\n",
    "  'Gabon',\n",
    "  'Gambia, The',\n",
    "  'Georgia',\n",
    "  'Germany',\n",
    "  'Ghana',\n",
    "  'Greece',\n",
    "  'Grenada',\n",
    "  'Guatemala',\n",
    "  'Guinea',\n",
    "  'Guinea-Bissau',\n",
    "  'Guyana',\n",
    "  'Haiti',\n",
    "  'Honduras',\n",
    "  'Hungary',\n",
    "  'Iceland',\n",
    "  'India',\n",
    "  'Indonesia',\n",
    "  'Iran',\n",
    "  'Iraq',\n",
    "  'Ireland',\n",
    "  'Israel',\n",
    "  'Italy',\n",
    "  'Jamaica',\n",
    "  'Japan',\n",
    "  'Jordan',\n",
    "  'Kazakhstan',\n",
    "  'Kenya',\n",
    "  'Kiribati',\n",
    "  'Korea, North',\n",
    "  'Korea, South',\n",
    "  'Kuwait',\n",
    "  'Kyrgyzstan',\n",
    "  'Laos',\n",
    "  'Latvia',\n",
    "  'Lebanon',\n",
    "  'Lesotho',\n",
    "  'Liberia',\n",
    "  'Libya',\n",
    "  'Liechtenstein',\n",
    "  'Lithuania',\n",
    "  'Luxembourg',\n",
    "  'Macedonia',\n",
    "  'Madagascar',\n",
    "  'Malawi',\n",
    "  'Malaysia',\n",
    "  'Maldives',\n",
    "  'Mali',\n",
    "  'Malta',\n",
    "  'Marshall Islands',\n",
    "  'Mauritania',\n",
    "  'Mauritius',\n",
    "  'Mexico',\n",
    "  'Micronesia',\n",
    "  'Moldova',\n",
    "  'Monaco',\n",
    "  'Mongolia',\n",
    "  'Morocco',\n",
    "  'Mozambique',\n",
    "  'Myanmar',\n",
    "  'Namibia',\n",
    "  'Nauru',\n",
    "  'Nepal',\n",
    "  'Netherlands',\n",
    "  'New Zealand',\n",
    "  'Nicaragua',\n",
    "  'Niger',\n",
    "  'Nigeria',\n",
    "  'Norway',\n",
    "  'Oman',\n",
    "  'Pakistan',\n",
    "  'Palau',\n",
    "  'Panama',\n",
    "  'Papua New Guinea',\n",
    "  'Paraguay',\n",
    "  'Peru',\n",
    "  'Philippines',\n",
    "  'Poland',\n",
    "  'Portugal',\n",
    "  'Qatar',\n",
    "  'Romania',\n",
    "  'Russia',\n",
    "  'Rwanda',\n",
    "  'Saint Kitts and Nevis',\n",
    "  'Saint Lucia',\n",
    "  'Saint Vincent',\n",
    "  'Samoa',\n",
    "  'San Marino',\n",
    "  'Sao Tome and Principe',\n",
    "  'Saudi Arabia',\n",
    "  'Senegal',\n",
    "  'Serbia and Montenegro',\n",
    "  'Seychelles',\n",
    "  'Sierra Leone',\n",
    "  'Singapore',\n",
    "  'Slovakia',\n",
    "  'Slovenia',\n",
    "  'Solomon Islands',\n",
    "  'Somalia',\n",
    "  'South Africa',\n",
    "  'Spain',\n",
    "  'Sri Lanka',\n",
    "  'Sudan',\n",
    "  'Suriname',\n",
    "  'Swaziland',\n",
    "  'Sweden',\n",
    "  'Switzerland',\n",
    "  'Syria',\n",
    "  'Taiwan',\n",
    "  'Tajikistan',\n",
    "  'Tanzania',\n",
    "  'Thailand',\n",
    "  'Togo',\n",
    "  'Tonga',\n",
    "  'Trinidad and Tobago',\n",
    "  'Tunisia',\n",
    "  'Turkey',\n",
    "  'Turkmenistan',\n",
    "  'Tuvalu',\n",
    "  'Uganda',\n",
    "  'Ukraine',\n",
    "  'United Arab Emirates',\n",
    "  'United Kingdom',\n",
    "  'United States',\n",
    "  'Uruguay',\n",
    "  'Uzbekistan',\n",
    "  'Vanuatu',\n",
    "  'Vatican City',\n",
    "  'Venezuela',\n",
    "  'Vietnam',\n",
    "  'Yemen',\n",
    "  'Zambia',\n",
    "  'Zimbabwe',\n",
    "]"
   ]
  },
  {
   "cell_type": "code",
   "execution_count": 83,
   "metadata": {},
   "outputs": [
    {
     "name": "stdout",
     "output_type": "stream",
     "text": [
      "Middle Country in a list: Lesotho\n"
     ]
    }
   ],
   "source": [
    "print(\"Middle Country in a list:\",countries[int(len(countries)/2)])"
   ]
  },
  {
   "cell_type": "markdown",
   "metadata": {},
   "source": [
    "Divide the countries list into two equal lists if it is even if not one more country for the first half."
   ]
  },
  {
   "cell_type": "code",
   "execution_count": 91,
   "metadata": {},
   "outputs": [
    {
     "name": "stdout",
     "output_type": "stream",
     "text": [
      "['Afghanistan', 'Albania', 'Algeria', 'Andorra', 'Angola', 'Antigua and Barbuda', 'Argentina', 'Armenia', 'Australia', 'Austria', 'Azerbaijan', 'Bahamas', 'Bahrain', 'Bangladesh', 'Barbados', 'Belarus', 'Belgium', 'Belize', 'Benin', 'Bhutan', 'Bolivia', 'Bosnia and Herzegovina', 'Botswana', 'Brazil', 'Brunei', 'Bulgaria', 'Burkina Faso', 'Burundi', 'Cambodia', 'Cameroon', 'Canada', 'Cape Verde', 'Central African Republic', 'Chad', 'Chile', 'China', 'Colombi', 'Comoros', 'Congo (Brazzaville)', 'Congo', 'Costa Rica', \"Cote d'Ivoire\", 'Croatia', 'Cuba', 'Cyprus', 'Czech Republic', 'Denmark', 'Djibouti', 'Dominica', 'Dominican Republic', 'East Timor (Timor Timur)', 'Ecuador', 'Egypt', 'El Salvador', 'Equatorial Guinea', 'Eritrea', 'Estonia', 'Ethiopia', 'Fiji', 'Finland', 'France', 'Gabon', 'Gambia, The', 'Georgia', 'Germany', 'Ghana', 'Greece', 'Grenada', 'Guatemala', 'Guinea', 'Guinea-Bissau', 'Guyana', 'Haiti', 'Honduras', 'Hungary', 'Iceland', 'India', 'Indonesia', 'Iran', 'Iraq', 'Ireland', 'Israel', 'Italy', 'Jamaica', 'Japan', 'Jordan', 'Kazakhstan', 'Kenya', 'Kiribati', 'Korea, North', 'Korea, South', 'Kuwait', 'Kyrgyzstan', 'Laos', 'Latvia', 'Lebanon', 'Lesotho']\n",
      "['Liberia', 'Libya', 'Liechtenstein', 'Lithuania', 'Luxembourg', 'Macedonia', 'Madagascar', 'Malawi', 'Malaysia', 'Maldives', 'Mali', 'Malta', 'Marshall Islands', 'Mauritania', 'Mauritius', 'Mexico', 'Micronesia', 'Moldova', 'Monaco', 'Mongolia', 'Morocco', 'Mozambique', 'Myanmar', 'Namibia', 'Nauru', 'Nepal', 'Netherlands', 'New Zealand', 'Nicaragua', 'Niger', 'Nigeria', 'Norway', 'Oman', 'Pakistan', 'Palau', 'Panama', 'Papua New Guinea', 'Paraguay', 'Peru', 'Philippines', 'Poland', 'Portugal', 'Qatar', 'Romania', 'Russia', 'Rwanda', 'Saint Kitts and Nevis', 'Saint Lucia', 'Saint Vincent', 'Samoa', 'San Marino', 'Sao Tome and Principe', 'Saudi Arabia', 'Senegal', 'Serbia and Montenegro', 'Seychelles', 'Sierra Leone', 'Singapore', 'Slovakia', 'Slovenia', 'Solomon Islands', 'Somalia', 'South Africa', 'Spain', 'Sri Lanka', 'Sudan', 'Suriname', 'Swaziland', 'Sweden', 'Switzerland', 'Syria', 'Taiwan', 'Tajikistan', 'Tanzania', 'Thailand', 'Togo', 'Tonga', 'Trinidad and Tobago', 'Tunisia', 'Turkey', 'Turkmenistan', 'Tuvalu', 'Uganda', 'Ukraine', 'United Arab Emirates', 'United Kingdom', 'United States', 'Uruguay', 'Uzbekistan', 'Vanuatu', 'Vatican City', 'Venezuela', 'Vietnam', 'Yemen', 'Zambia', 'Zimbabwe']\n"
     ]
    }
   ],
   "source": [
    "if len(countries)%2 ==0:\n",
    "    print(countries[:int(len(countries)/2)])\n",
    "    print(countries[int(len(countries)/2):])\n",
    "else:\n",
    "    print(countries[:math.ceil(len(countries)/2)])\n",
    "    print(countries[math.ceil(len(countries)/2):])"
   ]
  },
  {
   "cell_type": "markdown",
   "metadata": {},
   "source": [
    " ['China', 'Russia', 'USA', 'Finland', 'Sweden', 'Norway', 'Denmark']. Unpack the first three countries and the rest as scandic countries."
   ]
  },
  {
   "cell_type": "code",
   "execution_count": 92,
   "metadata": {},
   "outputs": [
    {
     "name": "stdout",
     "output_type": "stream",
     "text": [
      "['Finland', 'Sweden', 'Norway', 'Denmark']\n"
     ]
    }
   ],
   "source": [
    "countriesList = ['China', 'Russia', 'USA', 'Finland', 'Sweden', 'Norway', 'Denmark']\n",
    "scandicCountries = countriesList[3:]\n",
    "print(scandicCountries)"
   ]
  }
 ],
 "metadata": {
  "kernelspec": {
   "display_name": "Python 3",
   "language": "python",
   "name": "python3"
  },
  "language_info": {
   "codemirror_mode": {
    "name": "ipython",
    "version": 3
   },
   "file_extension": ".py",
   "mimetype": "text/x-python",
   "name": "python",
   "nbconvert_exporter": "python",
   "pygments_lexer": "ipython3",
   "version": "3.9.6"
  }
 },
 "nbformat": 4,
 "nbformat_minor": 2
}
